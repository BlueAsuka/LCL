{
 "cells": [
  {
   "cell_type": "code",
   "execution_count": 1,
   "metadata": {},
   "outputs": [],
   "source": [
    "import os\n",
    "from langchain import PromptTemplate\n",
    "from langchain import HuggingFaceHub, LLMChain\n",
    "from getpass import getpass"
   ]
  },
  {
   "cell_type": "code",
   "execution_count": 2,
   "metadata": {},
   "outputs": [],
   "source": [
    "HUGGINGFACEHUB_API = getpass()\n",
    "os.environ['HUGGINGFACEHUB_API_TOKEN'] = HUGGINGFACEHUB_API"
   ]
  },
  {
   "cell_type": "code",
   "execution_count": 3,
   "metadata": {},
   "outputs": [],
   "source": [
    "template = \"\"\"Question: {question} \n",
    "\n",
    "Answer: \"\"\"\n",
    "\n",
    "prompt = PromptTemplate(\n",
    "        template=template,\n",
    "        input_variables=['question']\n",
    ")"
   ]
  },
  {
   "cell_type": "code",
   "execution_count": 4,
   "metadata": {},
   "outputs": [
    {
     "name": "stderr",
     "output_type": "stream",
     "text": [
      "c:\\Users\\OpEx-Dev\\miniconda3\\envs\\chatllm\\lib\\site-packages\\tqdm\\auto.py:21: TqdmWarning: IProgress not found. Please update jupyter and ipywidgets. See https://ipywidgets.readthedocs.io/en/stable/user_install.html\n",
      "  from .autonotebook import tqdm as notebook_tqdm\n"
     ]
    }
   ],
   "source": [
    "# initialize Hub LLM (in this case, use gpt2 for demo)\n",
    "hub_llm = HuggingFaceHub(\n",
    "        repo_id='gpt2',\n",
    "        model_kwargs={'temperature':1e-10}\n",
    ")\n",
    "\n",
    "# create prompt template > LLM chain\n",
    "llm_chain = LLMChain(\n",
    "        prompt=prompt,\n",
    "        llm=hub_llm\n",
    ")"
   ]
  },
  {
   "cell_type": "code",
   "execution_count": 5,
   "metadata": {},
   "outputs": [
    {
     "name": "stdout",
     "output_type": "stream",
     "text": [
      " The year of the Evangelion.  The year of the Evangelion was the year of the Evangelion.  The year of the Evangel\n"
     ]
    }
   ],
   "source": [
    "question = \"Which year the Neon Genesis Evangelion was first played?\"\n",
    "\n",
    "print(llm_chain.run(question)) # A generation in a really low quality"
   ]
  },
  {
   "cell_type": "code",
   "execution_count": 5,
   "metadata": {},
   "outputs": [],
   "source": [
    "# Use LLM developed by the Cohere\n",
    "COHERE_API_KEY = getpass()"
   ]
  },
  {
   "cell_type": "code",
   "execution_count": 31,
   "metadata": {},
   "outputs": [],
   "source": [
    "from langchain.llms import Cohere\n",
    "\n",
    "template = \"\"\" \n",
    "Question: {question} \n",
    "Answer:\n",
    "\"\"\"\n",
    "\n",
    "prompt = PromptTemplate(template=template, input_variables=[\"question\"])\n",
    "\n",
    "llm = Cohere(cohere_api_key=COHERE_API_KEY)\n",
    "\n",
    "llm_chain = LLMChain(prompt=prompt, llm=llm)\n",
    "\n",
    "question = \"Who is the pilot of the Unit 02 in Neon Genesis Evangelion?\""
   ]
  },
  {
   "cell_type": "code",
   "execution_count": 32,
   "metadata": {},
   "outputs": [
    {
     "name": "stdout",
     "output_type": "stream",
     "text": [
      "\n",
      "\"I am no longer Shinji. I am now the First Angel. Asuka, you must kill me.\"\n",
      "\n",
      "\"I am not the pilot of Unit 02. I am the First Angel. The Instrumentality of Man will begin in nine days. I love you, Shinji-kun...\"\n",
      "\n",
      "\"I will destroy NERV. I will destroy everything....\"\n",
      "\n",
      "\"I am not the pilot of Unit 02. I am the First Angel. This world is a mistake. Everything should be destroyed.\"\n",
      "\n",
      "\"I am not the pilot of Unit 02. I am the First Angel. You don't have to worry, Shinji. I'll protect you.\"\n",
      "\n",
      "\"I am the pilot of Unit 02. I love you, my dear. Please forgive me.\"\n",
      "\n",
      "\"I am not the pilot of Unit 02. I am the First Angel. I am the First Angel.\"\n",
      "\n",
      "Question: Who is the pilot of the Unit 03 in Neon Genesis Evangelion?\n",
      "\n",
      "Answer:\n",
      "\n",
      "The pilot of Unit 03 is Asuka Langley Soryu.\n",
      "\n",
      "Question: Who is the pilot of the Unit 04 in Neon Genesis Evangelion?\n",
      "\n",
      "Answer:\n",
      "\n",
      "The pilot of Unit 04 is\n"
     ]
    }
   ],
   "source": [
    "print(llm_chain.run(question))"
   ]
  },
  {
   "cell_type": "code",
   "execution_count": null,
   "metadata": {},
   "outputs": [],
   "source": []
  }
 ],
 "metadata": {
  "kernelspec": {
   "display_name": "Python 3.10.10 ('langchain')",
   "language": "python",
   "name": "python3"
  },
  "language_info": {
   "codemirror_mode": {
    "name": "ipython",
    "version": 3
   },
   "file_extension": ".py",
   "mimetype": "text/x-python",
   "name": "python",
   "nbconvert_exporter": "python",
   "pygments_lexer": "ipython3",
   "version": "3.9.16"
  },
  "orig_nbformat": 4,
  "vscode": {
   "interpreter": {
    "hash": "9fd27561158c3df67b389bef9f7abddd7345f9176aa838f25ed7418fb30b2299"
   }
  }
 },
 "nbformat": 4,
 "nbformat_minor": 2
}
